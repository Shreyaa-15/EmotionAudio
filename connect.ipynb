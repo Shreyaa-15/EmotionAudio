{
 "cells": [
  {
   "cell_type": "code",
   "execution_count": null,
   "metadata": {},
   "outputs": [],
   "source": [
    "pip install streamlit"
   ]
  },
  {
   "cell_type": "code",
   "execution_count": null,
   "metadata": {},
   "outputs": [],
   "source": [
    "%%writefile app.py\n",
    "import streamlit as st\n",
    "import numpy as np\n",
    "import librosa\n",
    "from keras.models import load_model\n",
    "from keras.preprocessing import sequence\n",
    "from keras.models import Sequential\n",
    "from keras.layers import Dense, LSTM, Dropout\n",
    "\n",
    "# Load the trained LSTM model\n",
    "model = Sequential([\n",
    "    LSTM(256, return_sequences=False, input_shape=(40, 1)),\n",
    "    Dropout(0.2),\n",
    "    Dense(128, activation='relu'),\n",
    "    Dropout(0.2),\n",
    "    Dense(64, activation='relu'),\n",
    "    Dropout(0.2),\n",
    "    Dense(7, activation='softmax')\n",
    "])\n",
    "model.load_weights('modelEA.h5')  # Load model weights\n",
    "\n",
    "# Function to extract MFCC features from audio file\n",
    "def extract_mfcc(filename):\n",
    "    y, sr = librosa.load(filename, duration=3, offset=0.5)\n",
    "    mfcc = np.mean(librosa.feature.mfcc(y=y, sr=sr, n_mfcc=40).T, axis=0)\n",
    "    return mfcc\n",
    "\n",
    "# Function to preprocess input audio for model prediction\n",
    "def preprocess_audio(audio_file):\n",
    "    mfcc = extract_mfcc(audio_file)\n",
    "    mfcc = np.expand_dims(mfcc, axis=0)  # Add batch dimension\n",
    "    mfcc = np.expand_dims(mfcc, axis=-1)  # Add channel dimension\n",
    "    return mfcc\n",
    "\n",
    "# Function to predict emotion from audio file\n",
    "def predict_emotion(audio_file):\n",
    "    processed_audio = preprocess_audio(audio_file)\n",
    "    prediction = model.predict(processed_audio)\n",
    "    emotion_label = np.argmax(prediction)\n",
    "    return emotion_label\n",
    "\n",
    "# Streamlit UI\n",
    "st.title(\"Emotion Detection from Audio\")\n",
    "\n",
    "# File upload widget\n",
    "audio_file = st.file_uploader(\"Upload an audio file\", type=[\"wav\", \"mp3\"])\n",
    "\n",
    "# Prediction button\n",
    "if audio_file is not None:\n",
    "    # Perform prediction when audio file is uploaded\n",
    "    st.audio(audio_file, format='audio/wav')\n",
    "    emotion_label = predict_emotion(audio_file)\n",
    "    st.write(\"Predicted Emotion:\", emotion_label)\n"
   ]
  },
  {
   "cell_type": "code",
   "execution_count": null,
   "metadata": {},
   "outputs": [],
   "source": [
    "streamlit run app.py"
   ]
  },
  {
   "cell_type": "code",
   "execution_count": null,
   "metadata": {},
   "outputs": [],
   "source": []
  }
 ],
 "metadata": {
  "kernelspec": {
   "display_name": "Python 3",
   "language": "python",
   "name": "python3"
  },
  "language_info": {
   "codemirror_mode": {
    "name": "ipython",
    "version": 3
   },
   "file_extension": ".py",
   "mimetype": "text/x-python",
   "name": "python",
   "nbconvert_exporter": "python",
   "pygments_lexer": "ipython3",
   "version": "3.11.5"
  }
 },
 "nbformat": 4,
 "nbformat_minor": 4
}
